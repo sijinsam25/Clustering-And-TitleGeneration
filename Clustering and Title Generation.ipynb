{
 "cells": [
  {
   "cell_type": "markdown",
   "metadata": {},
   "source": [
    "# Clustering and Title Generation\n"
   ]
  },
  {
   "cell_type": "markdown",
   "metadata": {},
   "source": [
    "News articles dataset with 1k documents along with metadata in json format.\n"
   ]
  },
  {
   "cell_type": "code",
   "execution_count": 2,
   "metadata": {},
   "outputs": [],
   "source": [
    "#import the basic library\n",
    "import numpy as np\n",
    "import pandas as pd\n",
    "import json\n",
    "import glob\n",
    "import pprint\n",
    "import csv\n",
    "import seaborn as sns\n",
    "import matplotlib.pyplot as plt\n",
    "%matplotlib inline"
   ]
  },
  {
   "cell_type": "markdown",
   "metadata": {},
   "source": [
    "Here we have 1000 documents as in json format. firstly just merged those file into one common json file"
   ]
  },
  {
   "cell_type": "code",
   "execution_count": null,
   "metadata": {},
   "outputs": [],
   "source": [
    "read_files = glob.glob(\"./1k_news_articles/*.json\")"
   ]
  },
  {
   "cell_type": "code",
   "execution_count": null,
   "metadata": {},
   "outputs": [],
   "source": [
    "output_list=[]"
   ]
  },
  {
   "cell_type": "code",
   "execution_count": null,
   "metadata": {},
   "outputs": [],
   "source": [
    "for f in read_files:\n",
    "    with open(f,\"rb\") as infile:\n",
    "        for line in infile.readlines():\n",
    "            output_list.append(json.loads(line))"
   ]
  },
  {
   "cell_type": "code",
   "execution_count": null,
   "metadata": {},
   "outputs": [],
   "source": [
    "with open(\"merged_file.json\",\"w\") as outfile:\n",
    "    json.dump(output_list,outfile)"
   ]
  },
  {
   "cell_type": "code",
   "execution_count": 3,
   "metadata": {},
   "outputs": [
    {
     "data": {
      "text/html": [
       "<div>\n",
       "<style scoped>\n",
       "    .dataframe tbody tr th:only-of-type {\n",
       "        vertical-align: middle;\n",
       "    }\n",
       "\n",
       "    .dataframe tbody tr th {\n",
       "        vertical-align: top;\n",
       "    }\n",
       "\n",
       "    .dataframe thead th {\n",
       "        text-align: right;\n",
       "    }\n",
       "</style>\n",
       "<table border=\"1\" class=\"dataframe\">\n",
       "  <thead>\n",
       "    <tr style=\"text-align: right;\">\n",
       "      <th></th>\n",
       "      <th>0</th>\n",
       "      <th>1</th>\n",
       "      <th>2</th>\n",
       "      <th>3</th>\n",
       "      <th>4</th>\n",
       "      <th>5</th>\n",
       "      <th>6</th>\n",
       "      <th>7</th>\n",
       "      <th>8</th>\n",
       "      <th>9</th>\n",
       "      <th>...</th>\n",
       "      <th>990</th>\n",
       "      <th>991</th>\n",
       "      <th>992</th>\n",
       "      <th>993</th>\n",
       "      <th>994</th>\n",
       "      <th>995</th>\n",
       "      <th>996</th>\n",
       "      <th>997</th>\n",
       "      <th>998</th>\n",
       "      <th>999</th>\n",
       "    </tr>\n",
       "  </thead>\n",
       "  <tbody>\n",
       "    <tr>\n",
       "      <td>0</td>\n",
       "      <td>{'Author': 'Cabe Atwell ', 'Date': '04.05.2021...</td>\n",
       "      <td>{'Author': 'Cabe Atwell ', 'Date': '09.11.2018...</td>\n",
       "      <td>{'Author': 'Philip Spagnoli Stoten, Journalist...</td>\n",
       "      <td>{'Author': 'Hailey Lynne McKeefry ', 'Date': '...</td>\n",
       "      <td>{'Author': 'Cabe Atwell ', 'Date': '10.08.2018...</td>\n",
       "      <td>{'Author': 'Cabe Atwell ', 'Date': '12.17.2018...</td>\n",
       "      <td>{'Author': 'Rick Merritt ', 'Date': '01.03.201...</td>\n",
       "      <td>{'Author': 'EETimes ', 'Date': '11.17.2017', '...</td>\n",
       "      <td>{'Author': 'Cabe Atwell ', 'Date': '03.02.2021...</td>\n",
       "      <td>{'Author': 'Hailey Lynne McKeefry ', 'Date': '...</td>\n",
       "      <td>...</td>\n",
       "      <td>{'Author': 'Colin Barnden ', 'Date': '04.23.20...</td>\n",
       "      <td>{'Author': 'Gary Hilson ', 'Date': '09.27.2018...</td>\n",
       "      <td>{'Author': 'Gary Hilson ', 'Date': '02.08.2021...</td>\n",
       "      <td>{'Author': 'Sally Ward-Foxton ', 'Date': '10.2...</td>\n",
       "      <td>{'Author': 'Nitin Dahad ', 'Date': '03.22.2021...</td>\n",
       "      <td>{'Author': 'Nitin Dahad ', 'Date': '06.24.2019...</td>\n",
       "      <td>{'Author': 'Gina Roos ', 'Date': '12.03.2019',...</td>\n",
       "      <td>{'Author': 'Bill Schweber ', 'Date': '04.25.20...</td>\n",
       "      <td>{'Author': 'Lauro Rizzatti, consultant ', 'Dat...</td>\n",
       "      <td>{'Author': 'Nitin Dahad ', 'Date': '09.20.2018...</td>\n",
       "    </tr>\n",
       "  </tbody>\n",
       "</table>\n",
       "<p>1 rows × 1000 columns</p>\n",
       "</div>"
      ],
      "text/plain": [
       "                                                 0    \\\n",
       "0  {'Author': 'Cabe Atwell ', 'Date': '04.05.2021...   \n",
       "\n",
       "                                                 1    \\\n",
       "0  {'Author': 'Cabe Atwell ', 'Date': '09.11.2018...   \n",
       "\n",
       "                                                 2    \\\n",
       "0  {'Author': 'Philip Spagnoli Stoten, Journalist...   \n",
       "\n",
       "                                                 3    \\\n",
       "0  {'Author': 'Hailey Lynne McKeefry ', 'Date': '...   \n",
       "\n",
       "                                                 4    \\\n",
       "0  {'Author': 'Cabe Atwell ', 'Date': '10.08.2018...   \n",
       "\n",
       "                                                 5    \\\n",
       "0  {'Author': 'Cabe Atwell ', 'Date': '12.17.2018...   \n",
       "\n",
       "                                                 6    \\\n",
       "0  {'Author': 'Rick Merritt ', 'Date': '01.03.201...   \n",
       "\n",
       "                                                 7    \\\n",
       "0  {'Author': 'EETimes ', 'Date': '11.17.2017', '...   \n",
       "\n",
       "                                                 8    \\\n",
       "0  {'Author': 'Cabe Atwell ', 'Date': '03.02.2021...   \n",
       "\n",
       "                                                 9    ...  \\\n",
       "0  {'Author': 'Hailey Lynne McKeefry ', 'Date': '...  ...   \n",
       "\n",
       "                                                 990  \\\n",
       "0  {'Author': 'Colin Barnden ', 'Date': '04.23.20...   \n",
       "\n",
       "                                                 991  \\\n",
       "0  {'Author': 'Gary Hilson ', 'Date': '09.27.2018...   \n",
       "\n",
       "                                                 992  \\\n",
       "0  {'Author': 'Gary Hilson ', 'Date': '02.08.2021...   \n",
       "\n",
       "                                                 993  \\\n",
       "0  {'Author': 'Sally Ward-Foxton ', 'Date': '10.2...   \n",
       "\n",
       "                                                 994  \\\n",
       "0  {'Author': 'Nitin Dahad ', 'Date': '03.22.2021...   \n",
       "\n",
       "                                                 995  \\\n",
       "0  {'Author': 'Nitin Dahad ', 'Date': '06.24.2019...   \n",
       "\n",
       "                                                 996  \\\n",
       "0  {'Author': 'Gina Roos ', 'Date': '12.03.2019',...   \n",
       "\n",
       "                                                 997  \\\n",
       "0  {'Author': 'Bill Schweber ', 'Date': '04.25.20...   \n",
       "\n",
       "                                                 998  \\\n",
       "0  {'Author': 'Lauro Rizzatti, consultant ', 'Dat...   \n",
       "\n",
       "                                                 999  \n",
       "0  {'Author': 'Nitin Dahad ', 'Date': '09.20.2018...  \n",
       "\n",
       "[1 rows x 1000 columns]"
      ]
     },
     "execution_count": 3,
     "metadata": {},
     "output_type": "execute_result"
    }
   ],
   "source": [
    "#read that  particular json file\n",
    "df=pd.read_json('merged_file.json',lines=True)\n",
    "df"
   ]
  },
  {
   "cell_type": "markdown",
   "metadata": {},
   "source": [
    "# the merged json file just want to convert into csv file"
   ]
  },
  {
   "cell_type": "code",
   "execution_count": null,
   "metadata": {},
   "outputs": [],
   "source": [
    "# Opening JSON file and loading the data\n",
    "# into the variable data\n",
    "with open('merged_file.json') as json_file:\n",
    "    data = json.load(json_file)"
   ]
  },
  {
   "cell_type": "code",
   "execution_count": null,
   "metadata": {},
   "outputs": [],
   "source": [
    "fname=\"output.csv\""
   ]
  },
  {
   "cell_type": "code",
   "execution_count": null,
   "metadata": {},
   "outputs": [],
   "source": [
    "with open(fname,\"w\",encoding='utf-8') as file:\n",
    "    csv_file=csv.writer(file)\n",
    "    csv_file.writerow(['Author','Date','Keywords','Article'])\n",
    "    for item in data:\n",
    "        csv_file.writerow([item['Author'],item['Date'],item['Keywords'],item['Article']])"
   ]
  },
  {
   "cell_type": "markdown",
   "metadata": {},
   "source": [
    "# read the csv file\n"
   ]
  },
  {
   "cell_type": "code",
   "execution_count": 137,
   "metadata": {},
   "outputs": [
    {
     "data": {
      "text/html": [
       "<div>\n",
       "<style scoped>\n",
       "    .dataframe tbody tr th:only-of-type {\n",
       "        vertical-align: middle;\n",
       "    }\n",
       "\n",
       "    .dataframe tbody tr th {\n",
       "        vertical-align: top;\n",
       "    }\n",
       "\n",
       "    .dataframe thead th {\n",
       "        text-align: right;\n",
       "    }\n",
       "</style>\n",
       "<table border=\"1\" class=\"dataframe\">\n",
       "  <thead>\n",
       "    <tr style=\"text-align: right;\">\n",
       "      <th></th>\n",
       "      <th>Author</th>\n",
       "      <th>Date</th>\n",
       "      <th>Keywords</th>\n",
       "      <th>Article</th>\n",
       "    </tr>\n",
       "  </thead>\n",
       "  <tbody>\n",
       "    <tr>\n",
       "      <td>0</td>\n",
       "      <td>Cabe Atwell</td>\n",
       "      <td>04.05.2021</td>\n",
       "      <td>Microcontroller</td>\n",
       "      <td>As with SBCs (single board computers), CPUs, ...</td>\n",
       "    </tr>\n",
       "    <tr>\n",
       "      <td>1</td>\n",
       "      <td>Cabe Atwell</td>\n",
       "      <td>09.11.2018</td>\n",
       "      <td>Communications And Networking Systems Or Equip...</td>\n",
       "      <td>Every year like clockwork, new breeds of s...</td>\n",
       "    </tr>\n",
       "    <tr>\n",
       "      <td>2</td>\n",
       "      <td>Philip Spagnoli Stoten, Journalist &amp; Marketeer...</td>\n",
       "      <td>01.29.2019</td>\n",
       "      <td>Associations, Audio, Ces, Commercial, Computer...</td>\n",
       "      <td>If you didnât go to Las VegasÂ last week...</td>\n",
       "    </tr>\n",
       "    <tr>\n",
       "      <td>3</td>\n",
       "      <td>Hailey Lynne McKeefry</td>\n",
       "      <td>01.04.2018</td>\n",
       "      <td>Accessories, Business Topics, Commercial, EELi...</td>\n",
       "      <td>Today, with the help of the masses, high-tec...</td>\n",
       "    </tr>\n",
       "    <tr>\n",
       "      <td>4</td>\n",
       "      <td>Cabe Atwell</td>\n",
       "      <td>10.08.2018</td>\n",
       "      <td>Patents &amp; Licensing</td>\n",
       "      <td>Having engineering skills (no matter the dis...</td>\n",
       "    </tr>\n",
       "    <tr>\n",
       "      <td>...</td>\n",
       "      <td>...</td>\n",
       "      <td>...</td>\n",
       "      <td>...</td>\n",
       "      <td>...</td>\n",
       "    </tr>\n",
       "    <tr>\n",
       "      <td>995</td>\n",
       "      <td>Nitin Dahad</td>\n",
       "      <td>06.24.2019</td>\n",
       "      <td>Commercial, Internet Of Things, NFC, Packaging...</td>\n",
       "      <td>Chinese packaging materials firm BSN intends...</td>\n",
       "    </tr>\n",
       "    <tr>\n",
       "      <td>996</td>\n",
       "      <td>Gina Roos</td>\n",
       "      <td>12.03.2019</td>\n",
       "      <td>NaN</td>\n",
       "      <td>Thales recently launched PureFlyt, a connect...</td>\n",
       "    </tr>\n",
       "    <tr>\n",
       "      <td>997</td>\n",
       "      <td>Bill Schweber</td>\n",
       "      <td>04.25.2021</td>\n",
       "      <td>Advanced Technology, Energy, Power</td>\n",
       "      <td>Offshore fixed-in-place wind farms are not ne...</td>\n",
       "    </tr>\n",
       "    <tr>\n",
       "      <td>998</td>\n",
       "      <td>Lauro Rizzatti, consultant</td>\n",
       "      <td>04.30.2021</td>\n",
       "      <td>CPU, Fpga, GPU, Programmable Logic Tools, Veri...</td>\n",
       "      <td>The 35-year-old field programmable gate array...</td>\n",
       "    </tr>\n",
       "    <tr>\n",
       "      <td>999</td>\n",
       "      <td>Nitin Dahad</td>\n",
       "      <td>09.20.2018</td>\n",
       "      <td>Computers And Peripherals, Consumer Electronic...</td>\n",
       "      <td>LONDON â Research for the recent industr...</td>\n",
       "    </tr>\n",
       "  </tbody>\n",
       "</table>\n",
       "<p>1000 rows × 4 columns</p>\n",
       "</div>"
      ],
      "text/plain": [
       "                                                Author        Date  \\\n",
       "0                                         Cabe Atwell   04.05.2021   \n",
       "1                                         Cabe Atwell   09.11.2018   \n",
       "2    Philip Spagnoli Stoten, Journalist & Marketeer...  01.29.2019   \n",
       "3                               Hailey Lynne McKeefry   01.04.2018   \n",
       "4                                         Cabe Atwell   10.08.2018   \n",
       "..                                                 ...         ...   \n",
       "995                                       Nitin Dahad   06.24.2019   \n",
       "996                                         Gina Roos   12.03.2019   \n",
       "997                                     Bill Schweber   04.25.2021   \n",
       "998                        Lauro Rizzatti, consultant   04.30.2021   \n",
       "999                                       Nitin Dahad   09.20.2018   \n",
       "\n",
       "                                              Keywords  \\\n",
       "0                                      Microcontroller   \n",
       "1    Communications And Networking Systems Or Equip...   \n",
       "2    Associations, Audio, Ces, Commercial, Computer...   \n",
       "3    Accessories, Business Topics, Commercial, EELi...   \n",
       "4                                  Patents & Licensing   \n",
       "..                                                 ...   \n",
       "995  Commercial, Internet Of Things, NFC, Packaging...   \n",
       "996                                                NaN   \n",
       "997                 Advanced Technology, Energy, Power   \n",
       "998  CPU, Fpga, GPU, Programmable Logic Tools, Veri...   \n",
       "999  Computers And Peripherals, Consumer Electronic...   \n",
       "\n",
       "                                               Article  \n",
       "0     As with SBCs (single board computers), CPUs, ...  \n",
       "1        Every year like clockwork, new breeds of s...  \n",
       "2        If you didnât go to Las VegasÂ last week...  \n",
       "3      Today, with the help of the masses, high-tec...  \n",
       "4      Having engineering skills (no matter the dis...  \n",
       "..                                                 ...  \n",
       "995    Chinese packaging materials firm BSN intends...  \n",
       "996    Thales recently launched PureFlyt, a connect...  \n",
       "997   Offshore fixed-in-place wind farms are not ne...  \n",
       "998   The 35-year-old field programmable gate array...  \n",
       "999      LONDON â Research for the recent industr...  \n",
       "\n",
       "[1000 rows x 4 columns]"
      ]
     },
     "execution_count": 137,
     "metadata": {},
     "output_type": "execute_result"
    }
   ],
   "source": [
    "af=pd.read_csv(\"output.csv\")\n",
    "af"
   ]
  },
  {
   "cell_type": "code",
   "execution_count": 138,
   "metadata": {},
   "outputs": [
    {
     "data": {
      "text/plain": [
       "(1000, 4)"
      ]
     },
     "execution_count": 138,
     "metadata": {},
     "output_type": "execute_result"
    }
   ],
   "source": [
    "af.shape"
   ]
  },
  {
   "cell_type": "code",
   "execution_count": 139,
   "metadata": {},
   "outputs": [
    {
     "data": {
      "text/plain": [
       "Author        0\n",
       "Date          0\n",
       "Keywords    105\n",
       "Article       0\n",
       "dtype: int64"
      ]
     },
     "execution_count": 139,
     "metadata": {},
     "output_type": "execute_result"
    }
   ],
   "source": [
    "pd.isna(af).sum()"
   ]
  },
  {
   "cell_type": "markdown",
   "metadata": {},
   "source": [
    "# Data cleaning and preprocessing"
   ]
  },
  {
   "cell_type": "code",
   "execution_count": 140,
   "metadata": {},
   "outputs": [],
   "source": [
    "#stemming,lemmatization are the basic NLP preprocessing\n",
    "import re\n",
    "import nltk\n",
    "#nltk.download('stopwords')\n",
    "from nltk.corpus import stopwords\n",
    "from nltk.stem.porter import PorterStemmer\n",
    "from nltk.stem import WordNetLemmatizer"
   ]
  },
  {
   "cell_type": "code",
   "execution_count": 141,
   "metadata": {},
   "outputs": [],
   "source": [
    "ps = PorterStemmer()\n",
    "lemmatizer = WordNetLemmatizer()"
   ]
  },
  {
   "cell_type": "code",
   "execution_count": 142,
   "metadata": {},
   "outputs": [],
   "source": [
    "corpus = []\n",
    "for i in range(0, len(af)):\n",
    "    review = re.sub('[^a-zA-Z]', ' ', af['Article'][i])\n",
    "    review = review.lower()\n",
    "    review = review.split()\n",
    "    \n",
    "    review = [lemmatizer.lemmatize(word) for word in review if word not in set(stopwords.words('english'))]\n",
    "    review = ' '.join(review)\n",
    "    corpus.append(review)"
   ]
  },
  {
   "cell_type": "markdown",
   "metadata": {},
   "source": [
    "# Creating the TF-IDF model"
   ]
  },
  {
   "cell_type": "code",
   "execution_count": 143,
   "metadata": {},
   "outputs": [],
   "source": [
    "from sklearn.feature_extraction.text import TfidfVectorizer\n",
    "cv = TfidfVectorizer()\n",
    "X = cv.fit_transform(corpus).toarray()"
   ]
  },
  {
   "cell_type": "code",
   "execution_count": 145,
   "metadata": {},
   "outputs": [
    {
     "data": {
      "text/plain": [
       "array([[0., 0., 0., ..., 0., 0., 0.],\n",
       "       [0., 0., 0., ..., 0., 0., 0.],\n",
       "       [0., 0., 0., ..., 0., 0., 0.],\n",
       "       ...,\n",
       "       [0., 0., 0., ..., 0., 0., 0.],\n",
       "       [0., 0., 0., ..., 0., 0., 0.],\n",
       "       [0., 0., 0., ..., 0., 0., 0.]])"
      ]
     },
     "execution_count": 145,
     "metadata": {},
     "output_type": "execute_result"
    }
   ],
   "source": [
    "X"
   ]
  },
  {
   "cell_type": "markdown",
   "metadata": {},
   "source": [
    "# Clustering\n",
    "\n",
    "It is an Unsupervised machine learning problem. because it is not labelled .here we have to cluster the news articles into different clusters or groups"
   ]
  },
  {
   "cell_type": "markdown",
   "metadata": {},
   "source": [
    " Kmeans Clustering will going to use"
   ]
  },
  {
   "cell_type": "code",
   "execution_count": 149,
   "metadata": {},
   "outputs": [],
   "source": [
    "from sklearn.cluster import KMeans"
   ]
  },
  {
   "cell_type": "code",
   "execution_count": 154,
   "metadata": {},
   "outputs": [],
   "source": [
    "# fitting multiple k-means algorithms and storing the values in an empty list\n",
    "SSE = []\n",
    "for cluster in range(1,50):\n",
    "    kmeans = KMeans(n_jobs = -1, n_clusters = cluster, init='k-means++')\n",
    "    kmeans.fit(X)\n",
    "    SSE.append(kmeans.inertia_)"
   ]
  },
  {
   "cell_type": "markdown",
   "metadata": {},
   "source": [
    "We need to plot a figure to find and choose no.of clusters\n",
    "\n",
    "we just plotting Elbow Curve"
   ]
  },
  {
   "cell_type": "code",
   "execution_count": 155,
   "metadata": {},
   "outputs": [
    {
     "data": {
      "text/plain": [
       "Text(0, 0.5, 'Inertia')"
      ]
     },
     "execution_count": 155,
     "metadata": {},
     "output_type": "execute_result"
    },
    {
     "data": {
      "image/png": "[encoded data removed]",
      "text/plain": [
       "<Figure size 1008x504 with 1 Axes>"
      ]
     },
     "metadata": {
      "needs_background": "light"
     },
     "output_type": "display_data"
    }
   ],
   "source": [
    "# converting the results into a dataframe and plotting them\n",
    "frame = pd.DataFrame({'Cluster':range(1,50), 'SSE':SSE})\n",
    "plt.figure(figsize=(14,7))\n",
    "plt.plot(frame['Cluster'], frame['SSE'], marker='o')\n",
    "plt.xlabel('Number of clusters')\n",
    "plt.ylabel('Inertia')"
   ]
  },
  {
   "cell_type": "code",
   "execution_count": 156,
   "metadata": {},
   "outputs": [
    {
     "name": "stdout",
     "output_type": "stream",
     "text": [
      "820.645967698162\n"
     ]
    }
   ],
   "source": [
    "print(kmeans.inertia_)"
   ]
  },
  {
   "cell_type": "markdown",
   "metadata": {},
   "source": [
    "Here, we can choose any number of clusters between 7 and 9. We can have 7,8 or even 9 clusters. You must also look at the computation cost while deciding the number of clusters. If we increase the number of clusters, the computation cost will also increase. "
   ]
  },
  {
   "cell_type": "code",
   "execution_count": 157,
   "metadata": {},
   "outputs": [],
   "source": [
    "#choose k=7\n",
    "\n",
    "# k means using 7 clusters and k-means++ initialization\n",
    "kmeans = KMeans(n_jobs = -1, n_clusters = 7, init='k-means++')\n",
    "kmeans.fit(X)\n",
    "pred = kmeans.predict(X)"
   ]
  },
  {
   "cell_type": "code",
   "execution_count": 158,
   "metadata": {},
   "outputs": [],
   "source": [
    "af_new=af\n",
    "af_new['cluster']=pred"
   ]
  },
  {
   "cell_type": "code",
   "execution_count": 159,
   "metadata": {},
   "outputs": [
    {
     "data": {
      "image/png": "[encoded data removed]",
      "text/plain": [
       "<Figure size 432x288 with 1 Axes>"
      ]
     },
     "metadata": {
      "needs_background": "light"
     },
     "output_type": "display_data"
    }
   ],
   "source": [
    "# count plot on single categorical variable\n",
    "sns.countplot(x ='cluster', data = af_new)\n",
    " \n",
    "# Show the plot\n",
    "plt.show()"
   ]
  },
  {
   "cell_type": "code",
   "execution_count": 160,
   "metadata": {},
   "outputs": [
    {
     "data": {
      "text/plain": [
       "6    367\n",
       "0    185\n",
       "5    157\n",
       "1     91\n",
       "2     71\n",
       "4     70\n",
       "3     59\n",
       "Name: cluster, dtype: int64"
      ]
     },
     "execution_count": 160,
     "metadata": {},
     "output_type": "execute_result"
    }
   ],
   "source": [
    "af_new['cluster'].value_counts()\n"
   ]
  },
  {
   "cell_type": "code",
   "execution_count": 161,
   "metadata": {},
   "outputs": [
    {
     "data": {
      "text/html": [
       "<div>\n",
       "<style scoped>\n",
       "    .dataframe tbody tr th:only-of-type {\n",
       "        vertical-align: middle;\n",
       "    }\n",
       "\n",
       "    .dataframe tbody tr th {\n",
       "        vertical-align: top;\n",
       "    }\n",
       "\n",
       "    .dataframe thead th {\n",
       "        text-align: right;\n",
       "    }\n",
       "</style>\n",
       "<table border=\"1\" class=\"dataframe\">\n",
       "  <thead>\n",
       "    <tr style=\"text-align: right;\">\n",
       "      <th></th>\n",
       "      <th>Author</th>\n",
       "      <th>Date</th>\n",
       "      <th>Keywords</th>\n",
       "      <th>Article</th>\n",
       "      <th>cluster</th>\n",
       "    </tr>\n",
       "  </thead>\n",
       "  <tbody>\n",
       "    <tr>\n",
       "      <td>0</td>\n",
       "      <td>Cabe Atwell</td>\n",
       "      <td>04.05.2021</td>\n",
       "      <td>Microcontroller</td>\n",
       "      <td>As with SBCs (single board computers), CPUs, ...</td>\n",
       "      <td>6</td>\n",
       "    </tr>\n",
       "    <tr>\n",
       "      <td>1</td>\n",
       "      <td>Cabe Atwell</td>\n",
       "      <td>09.11.2018</td>\n",
       "      <td>Communications And Networking Systems Or Equip...</td>\n",
       "      <td>Every year like clockwork, new breeds of s...</td>\n",
       "      <td>6</td>\n",
       "    </tr>\n",
       "    <tr>\n",
       "      <td>2</td>\n",
       "      <td>Philip Spagnoli Stoten, Journalist &amp; Marketeer...</td>\n",
       "      <td>01.29.2019</td>\n",
       "      <td>Associations, Audio, Ces, Commercial, Computer...</td>\n",
       "      <td>If you didnât go to Las VegasÂ last week...</td>\n",
       "      <td>6</td>\n",
       "    </tr>\n",
       "    <tr>\n",
       "      <td>3</td>\n",
       "      <td>Hailey Lynne McKeefry</td>\n",
       "      <td>01.04.2018</td>\n",
       "      <td>Accessories, Business Topics, Commercial, EELi...</td>\n",
       "      <td>Today, with the help of the masses, high-tec...</td>\n",
       "      <td>6</td>\n",
       "    </tr>\n",
       "    <tr>\n",
       "      <td>4</td>\n",
       "      <td>Cabe Atwell</td>\n",
       "      <td>10.08.2018</td>\n",
       "      <td>Patents &amp; Licensing</td>\n",
       "      <td>Having engineering skills (no matter the dis...</td>\n",
       "      <td>6</td>\n",
       "    </tr>\n",
       "  </tbody>\n",
       "</table>\n",
       "</div>"
      ],
      "text/plain": [
       "                                              Author        Date  \\\n",
       "0                                       Cabe Atwell   04.05.2021   \n",
       "1                                       Cabe Atwell   09.11.2018   \n",
       "2  Philip Spagnoli Stoten, Journalist & Marketeer...  01.29.2019   \n",
       "3                             Hailey Lynne McKeefry   01.04.2018   \n",
       "4                                       Cabe Atwell   10.08.2018   \n",
       "\n",
       "                                            Keywords  \\\n",
       "0                                    Microcontroller   \n",
       "1  Communications And Networking Systems Or Equip...   \n",
       "2  Associations, Audio, Ces, Commercial, Computer...   \n",
       "3  Accessories, Business Topics, Commercial, EELi...   \n",
       "4                                Patents & Licensing   \n",
       "\n",
       "                                             Article  cluster  \n",
       "0   As with SBCs (single board computers), CPUs, ...        6  \n",
       "1      Every year like clockwork, new breeds of s...        6  \n",
       "2      If you didnât go to Las VegasÂ last week...        6  \n",
       "3    Today, with the help of the masses, high-tec...        6  \n",
       "4    Having engineering skills (no matter the dis...        6  "
      ]
     },
     "execution_count": 161,
     "metadata": {},
     "output_type": "execute_result"
    }
   ],
   "source": [
    "af_new.head()"
   ]
  },
  {
   "cell_type": "code",
   "execution_count": 162,
   "metadata": {},
   "outputs": [],
   "source": [
    "#saving the dataframe af_new as csv\n",
    "af_new.to_csv('af_new.csv')\n"
   ]
  },
  {
   "cell_type": "markdown",
   "metadata": {},
   "source": [
    "for the future purpose the  cleaned and preprocressed data [corpus] in convert into dataframe and merged the predicted cluster\n",
    "for title generation of each and particular cluster\n",
    "\n"
   ]
  },
  {
   "cell_type": "code",
   "execution_count": 163,
   "metadata": {},
   "outputs": [
    {
     "data": {
      "text/html": [
       "<div>\n",
       "<style scoped>\n",
       "    .dataframe tbody tr th:only-of-type {\n",
       "        vertical-align: middle;\n",
       "    }\n",
       "\n",
       "    .dataframe tbody tr th {\n",
       "        vertical-align: top;\n",
       "    }\n",
       "\n",
       "    .dataframe thead th {\n",
       "        text-align: right;\n",
       "    }\n",
       "</style>\n",
       "<table border=\"1\" class=\"dataframe\">\n",
       "  <thead>\n",
       "    <tr style=\"text-align: right;\">\n",
       "      <th></th>\n",
       "      <th>Article</th>\n",
       "      <th>cluster</th>\n",
       "    </tr>\n",
       "  </thead>\n",
       "  <tbody>\n",
       "    <tr>\n",
       "      <td>0</td>\n",
       "      <td>sbcs single board computer cpu gpus electronic...</td>\n",
       "      <td>6</td>\n",
       "    </tr>\n",
       "    <tr>\n",
       "      <td>1</td>\n",
       "      <td>every year like clockwork new breed single boa...</td>\n",
       "      <td>6</td>\n",
       "    </tr>\n",
       "    <tr>\n",
       "      <td>2</td>\n",
       "      <td>go la vega last week ce shame well worry quiet...</td>\n",
       "      <td>6</td>\n",
       "    </tr>\n",
       "    <tr>\n",
       "      <td>3</td>\n",
       "      <td>today help mass high tech electronics product ...</td>\n",
       "      <td>6</td>\n",
       "    </tr>\n",
       "    <tr>\n",
       "      <td>4</td>\n",
       "      <td>engineering skill matter discipline come quite...</td>\n",
       "      <td>6</td>\n",
       "    </tr>\n",
       "  </tbody>\n",
       "</table>\n",
       "</div>"
      ],
      "text/plain": [
       "                                             Article  cluster\n",
       "0  sbcs single board computer cpu gpus electronic...        6\n",
       "1  every year like clockwork new breed single boa...        6\n",
       "2  go la vega last week ce shame well worry quiet...        6\n",
       "3  today help mass high tech electronics product ...        6\n",
       "4  engineering skill matter discipline come quite...        6"
      ]
     },
     "execution_count": 163,
     "metadata": {},
     "output_type": "execute_result"
    }
   ],
   "source": [
    "#convert into dataframe\n",
    "corpus_new=pd.DataFrame(corpus,columns=['Article'])\n",
    "corpus_new['cluster']=pred\n",
    "corpus_new.head()\n"
   ]
  },
  {
   "cell_type": "code",
   "execution_count": 164,
   "metadata": {},
   "outputs": [],
   "source": [
    "#saving the dataframe af_new as csv\n",
    "corpus_new.to_csv('corpus_new.csv')"
   ]
  },
  {
   "cell_type": "markdown",
   "metadata": {},
   "source": [
    "# Title Generation"
   ]
  },
  {
   "cell_type": "markdown",
   "metadata": {},
   "source": [
    "for Text generation,here we are using Markov chain generator\n",
    "\n",
    "Markovify is a simple, extensible Markov chain generator. Right now, its main use is for building Markov models of large corpora of text, and generating random sentences from that"
   ]
  },
  {
   "cell_type": "code",
   "execution_count": 10,
   "metadata": {},
   "outputs": [],
   "source": [
    "import markovify "
   ]
  },
  {
   "cell_type": "code",
   "execution_count": 33,
   "metadata": {},
   "outputs": [
    {
     "data": {
      "text/html": [
       "<div>\n",
       "<style scoped>\n",
       "    .dataframe tbody tr th:only-of-type {\n",
       "        vertical-align: middle;\n",
       "    }\n",
       "\n",
       "    .dataframe tbody tr th {\n",
       "        vertical-align: top;\n",
       "    }\n",
       "\n",
       "    .dataframe thead th {\n",
       "        text-align: right;\n",
       "    }\n",
       "</style>\n",
       "<table border=\"1\" class=\"dataframe\">\n",
       "  <thead>\n",
       "    <tr style=\"text-align: right;\">\n",
       "      <th></th>\n",
       "      <th>Unnamed: 0</th>\n",
       "      <th>Article</th>\n",
       "      <th>cluster</th>\n",
       "    </tr>\n",
       "  </thead>\n",
       "  <tbody>\n",
       "    <tr>\n",
       "      <td>0</td>\n",
       "      <td>0</td>\n",
       "      <td>sbcs single board computer cpu gpus electronic...</td>\n",
       "      <td>2</td>\n",
       "    </tr>\n",
       "    <tr>\n",
       "      <td>1</td>\n",
       "      <td>1</td>\n",
       "      <td>every year like clockwork new breed single boa...</td>\n",
       "      <td>1</td>\n",
       "    </tr>\n",
       "    <tr>\n",
       "      <td>2</td>\n",
       "      <td>2</td>\n",
       "      <td>go la vega last week ce shame well worry quiet...</td>\n",
       "      <td>2</td>\n",
       "    </tr>\n",
       "    <tr>\n",
       "      <td>3</td>\n",
       "      <td>3</td>\n",
       "      <td>today help mass high tech electronics product ...</td>\n",
       "      <td>2</td>\n",
       "    </tr>\n",
       "    <tr>\n",
       "      <td>4</td>\n",
       "      <td>4</td>\n",
       "      <td>engineering skill matter discipline come quite...</td>\n",
       "      <td>2</td>\n",
       "    </tr>\n",
       "  </tbody>\n",
       "</table>\n",
       "</div>"
      ],
      "text/plain": [
       "   Unnamed: 0                                            Article  cluster\n",
       "0           0  sbcs single board computer cpu gpus electronic...        2\n",
       "1           1  every year like clockwork new breed single boa...        1\n",
       "2           2  go la vega last week ce shame well worry quiet...        2\n",
       "3           3  today help mass high tech electronics product ...        2\n",
       "4           4  engineering skill matter discipline come quite...        2"
      ]
     },
     "execution_count": 33,
     "metadata": {},
     "output_type": "execute_result"
    }
   ],
   "source": [
    "data1=pd.read_csv('corpus_new.csv')\n",
    "data1.head()"
   ]
  },
  {
   "cell_type": "code",
   "execution_count": 165,
   "metadata": {},
   "outputs": [
    {
     "data": {
      "text/html": [
       "<div>\n",
       "<style scoped>\n",
       "    .dataframe tbody tr th:only-of-type {\n",
       "        vertical-align: middle;\n",
       "    }\n",
       "\n",
       "    .dataframe tbody tr th {\n",
       "        vertical-align: top;\n",
       "    }\n",
       "\n",
       "    .dataframe thead th {\n",
       "        text-align: right;\n",
       "    }\n",
       "</style>\n",
       "<table border=\"1\" class=\"dataframe\">\n",
       "  <thead>\n",
       "    <tr style=\"text-align: right;\">\n",
       "      <th></th>\n",
       "      <th>Unnamed: 0</th>\n",
       "      <th>Author</th>\n",
       "      <th>Date</th>\n",
       "      <th>Keywords</th>\n",
       "      <th>Article</th>\n",
       "      <th>cluster</th>\n",
       "    </tr>\n",
       "  </thead>\n",
       "  <tbody>\n",
       "    <tr>\n",
       "      <td>0</td>\n",
       "      <td>0</td>\n",
       "      <td>Cabe Atwell</td>\n",
       "      <td>04.05.2021</td>\n",
       "      <td>Microcontroller</td>\n",
       "      <td>As with SBCs (single board computers), CPUs, ...</td>\n",
       "      <td>6</td>\n",
       "    </tr>\n",
       "    <tr>\n",
       "      <td>1</td>\n",
       "      <td>1</td>\n",
       "      <td>Cabe Atwell</td>\n",
       "      <td>09.11.2018</td>\n",
       "      <td>Communications And Networking Systems Or Equip...</td>\n",
       "      <td>Every year like clockwork, new breeds of s...</td>\n",
       "      <td>6</td>\n",
       "    </tr>\n",
       "    <tr>\n",
       "      <td>2</td>\n",
       "      <td>2</td>\n",
       "      <td>Philip Spagnoli Stoten, Journalist &amp; Marketeer...</td>\n",
       "      <td>01.29.2019</td>\n",
       "      <td>Associations, Audio, Ces, Commercial, Computer...</td>\n",
       "      <td>If you didnât go to Las VegasÂ last week...</td>\n",
       "      <td>6</td>\n",
       "    </tr>\n",
       "    <tr>\n",
       "      <td>3</td>\n",
       "      <td>3</td>\n",
       "      <td>Hailey Lynne McKeefry</td>\n",
       "      <td>01.04.2018</td>\n",
       "      <td>Accessories, Business Topics, Commercial, EELi...</td>\n",
       "      <td>Today, with the help of the masses, high-tec...</td>\n",
       "      <td>6</td>\n",
       "    </tr>\n",
       "    <tr>\n",
       "      <td>4</td>\n",
       "      <td>4</td>\n",
       "      <td>Cabe Atwell</td>\n",
       "      <td>10.08.2018</td>\n",
       "      <td>Patents &amp; Licensing</td>\n",
       "      <td>Having engineering skills (no matter the dis...</td>\n",
       "      <td>6</td>\n",
       "    </tr>\n",
       "  </tbody>\n",
       "</table>\n",
       "</div>"
      ],
      "text/plain": [
       "   Unnamed: 0                                             Author        Date  \\\n",
       "0           0                                       Cabe Atwell   04.05.2021   \n",
       "1           1                                       Cabe Atwell   09.11.2018   \n",
       "2           2  Philip Spagnoli Stoten, Journalist & Marketeer...  01.29.2019   \n",
       "3           3                             Hailey Lynne McKeefry   01.04.2018   \n",
       "4           4                                       Cabe Atwell   10.08.2018   \n",
       "\n",
       "                                            Keywords  \\\n",
       "0                                    Microcontroller   \n",
       "1  Communications And Networking Systems Or Equip...   \n",
       "2  Associations, Audio, Ces, Commercial, Computer...   \n",
       "3  Accessories, Business Topics, Commercial, EELi...   \n",
       "4                                Patents & Licensing   \n",
       "\n",
       "                                             Article  cluster  \n",
       "0   As with SBCs (single board computers), CPUs, ...        6  \n",
       "1      Every year like clockwork, new breeds of s...        6  \n",
       "2      If you didnât go to Las VegasÂ last week...        6  \n",
       "3    Today, with the help of the masses, high-tec...        6  \n",
       "4    Having engineering skills (no matter the dis...        6  "
      ]
     },
     "execution_count": 165,
     "metadata": {},
     "output_type": "execute_result"
    }
   ],
   "source": [
    "#we need the text without lossing the stopwords for better meaning\n",
    "data2=pd.read_csv('af_new.csv')\n",
    "data2.head(5)"
   ]
  },
  {
   "cell_type": "code",
   "execution_count": 166,
   "metadata": {},
   "outputs": [],
   "source": [
    "#we need to preprocess the data \n",
    "cor2=[]\n",
    "for i in range(0, len(data2)):\n",
    "    review = re.sub('[^a-zA-Z]', ' ', data2['Article'][i])\n",
    "    review = review.lower()\n",
    "    review = review.split()\n",
    "    \n",
    "    #review = [lemmatizer.lemmatize(word) for word in review if word not in set(stopwords.words('english'))]\n",
    "    review = ' '.join(review)\n",
    "    cor2.append(review)\n"
   ]
  },
  {
   "cell_type": "code",
   "execution_count": 167,
   "metadata": {},
   "outputs": [
    {
     "data": {
      "text/html": [
       "<div>\n",
       "<style scoped>\n",
       "    .dataframe tbody tr th:only-of-type {\n",
       "        vertical-align: middle;\n",
       "    }\n",
       "\n",
       "    .dataframe tbody tr th {\n",
       "        vertical-align: top;\n",
       "    }\n",
       "\n",
       "    .dataframe thead th {\n",
       "        text-align: right;\n",
       "    }\n",
       "</style>\n",
       "<table border=\"1\" class=\"dataframe\">\n",
       "  <thead>\n",
       "    <tr style=\"text-align: right;\">\n",
       "      <th></th>\n",
       "      <th>Unnamed: 0</th>\n",
       "      <th>Author</th>\n",
       "      <th>Date</th>\n",
       "      <th>Keywords</th>\n",
       "      <th>Article</th>\n",
       "      <th>cluster</th>\n",
       "      <th>text</th>\n",
       "    </tr>\n",
       "  </thead>\n",
       "  <tbody>\n",
       "    <tr>\n",
       "      <td>0</td>\n",
       "      <td>0</td>\n",
       "      <td>Cabe Atwell</td>\n",
       "      <td>04.05.2021</td>\n",
       "      <td>Microcontroller</td>\n",
       "      <td>As with SBCs (single board computers), CPUs, ...</td>\n",
       "      <td>6</td>\n",
       "      <td>as with sbcs single board computers cpus gpus ...</td>\n",
       "    </tr>\n",
       "    <tr>\n",
       "      <td>1</td>\n",
       "      <td>1</td>\n",
       "      <td>Cabe Atwell</td>\n",
       "      <td>09.11.2018</td>\n",
       "      <td>Communications And Networking Systems Or Equip...</td>\n",
       "      <td>Every year like clockwork, new breeds of s...</td>\n",
       "      <td>6</td>\n",
       "      <td>every year like clockwork new breeds of single...</td>\n",
       "    </tr>\n",
       "    <tr>\n",
       "      <td>2</td>\n",
       "      <td>2</td>\n",
       "      <td>Philip Spagnoli Stoten, Journalist &amp; Marketeer...</td>\n",
       "      <td>01.29.2019</td>\n",
       "      <td>Associations, Audio, Ces, Commercial, Computer...</td>\n",
       "      <td>If you didnât go to Las VegasÂ last week...</td>\n",
       "      <td>6</td>\n",
       "      <td>if you didn t go to las vegas last week for ce...</td>\n",
       "    </tr>\n",
       "    <tr>\n",
       "      <td>3</td>\n",
       "      <td>3</td>\n",
       "      <td>Hailey Lynne McKeefry</td>\n",
       "      <td>01.04.2018</td>\n",
       "      <td>Accessories, Business Topics, Commercial, EELi...</td>\n",
       "      <td>Today, with the help of the masses, high-tec...</td>\n",
       "      <td>6</td>\n",
       "      <td>today with the help of the masses high tech an...</td>\n",
       "    </tr>\n",
       "    <tr>\n",
       "      <td>4</td>\n",
       "      <td>4</td>\n",
       "      <td>Cabe Atwell</td>\n",
       "      <td>10.08.2018</td>\n",
       "      <td>Patents &amp; Licensing</td>\n",
       "      <td>Having engineering skills (no matter the dis...</td>\n",
       "      <td>6</td>\n",
       "      <td>having engineering skills no matter the discip...</td>\n",
       "    </tr>\n",
       "  </tbody>\n",
       "</table>\n",
       "</div>"
      ],
      "text/plain": [
       "   Unnamed: 0                                             Author        Date  \\\n",
       "0           0                                       Cabe Atwell   04.05.2021   \n",
       "1           1                                       Cabe Atwell   09.11.2018   \n",
       "2           2  Philip Spagnoli Stoten, Journalist & Marketeer...  01.29.2019   \n",
       "3           3                             Hailey Lynne McKeefry   01.04.2018   \n",
       "4           4                                       Cabe Atwell   10.08.2018   \n",
       "\n",
       "                                            Keywords  \\\n",
       "0                                    Microcontroller   \n",
       "1  Communications And Networking Systems Or Equip...   \n",
       "2  Associations, Audio, Ces, Commercial, Computer...   \n",
       "3  Accessories, Business Topics, Commercial, EELi...   \n",
       "4                                Patents & Licensing   \n",
       "\n",
       "                                             Article  cluster  \\\n",
       "0   As with SBCs (single board computers), CPUs, ...        6   \n",
       "1      Every year like clockwork, new breeds of s...        6   \n",
       "2      If you didnât go to Las VegasÂ last week...        6   \n",
       "3    Today, with the help of the masses, high-tec...        6   \n",
       "4    Having engineering skills (no matter the dis...        6   \n",
       "\n",
       "                                                text  \n",
       "0  as with sbcs single board computers cpus gpus ...  \n",
       "1  every year like clockwork new breeds of single...  \n",
       "2  if you didn t go to las vegas last week for ce...  \n",
       "3  today with the help of the masses high tech an...  \n",
       "4  having engineering skills no matter the discip...  "
      ]
     },
     "execution_count": 167,
     "metadata": {},
     "output_type": "execute_result"
    }
   ],
   "source": [
    "cor2_new=pd.DataFrame(cor2,columns=['Article'])\n",
    "cor2_new\n",
    "\n",
    "data2['text']=cor2_new['Article']\n",
    "data2.head(5)"
   ]
  },
  {
   "cell_type": "markdown",
   "metadata": {},
   "source": [
    "from the clustering session , we have divided 7 clusters into\n",
    "[0,1,2,3,4,5,6]\n",
    "\n",
    "we need to title each clusters from the content as generative usin Markov Chain Generator"
   ]
  },
  {
   "cell_type": "markdown",
   "metadata": {},
   "source": [
    "# Cluster 1\n"
   ]
  },
  {
   "cell_type": "code",
   "execution_count": 168,
   "metadata": {},
   "outputs": [],
   "source": [
    "#intialize the data \n",
    "clus0=data2[data2['cluster']==0]['Article']"
   ]
  },
  {
   "cell_type": "markdown",
   "metadata": {},
   "source": [
    "for better efficient model we will use\n",
    "\n",
    "Ensembling Markov Chain Model"
   ]
  },
  {
   "cell_type": "code",
   "execution_count": 169,
   "metadata": {},
   "outputs": [
    {
     "name": "stdout",
     "output_type": "stream",
     "text": [
      "Title of Cluster1 news articles:  No longer a sci-fi novelty, artificial intelligence and big data analytics at Lux Research. \n"
     ]
    }
   ],
   "source": [
    "text_modelA0= markovify.NewlineText(clus0, state_size = 2)\n",
    "text_modelB0 = markovify.NewlineText(clus0, state_size = 2)\n",
    "model_combo0 = markovify.combine([ text_modelA0, text_modelB0 ], [ 1.5, 1 ])\n",
    "print('Title of Cluster1 news articles:',model_combo0.make_short_sentence(150))"
   ]
  },
  {
   "cell_type": "code",
   "execution_count": null,
   "metadata": {},
   "outputs": [],
   "source": []
  },
  {
   "cell_type": "markdown",
   "metadata": {},
   "source": [
    "# Cluster 2"
   ]
  },
  {
   "cell_type": "code",
   "execution_count": 170,
   "metadata": {},
   "outputs": [],
   "source": [
    "#intialize the data \n",
    "clus1=data2[data2['cluster']==1]['Article']"
   ]
  },
  {
   "cell_type": "code",
   "execution_count": 173,
   "metadata": {},
   "outputs": [
    {
     "name": "stdout",
     "output_type": "stream",
     "text": [
      "Title of Cluster2 news articles:  One of the sessionâs speakers and a technical marketing manager for autonomous capabilities requires the energy and infrastructure only found in vehicles. For more information visit www.airbiquity.com â Alix Paultre is a director of technology for the SEMI trade group \n"
     ]
    }
   ],
   "source": [
    "text_modelA1 = markovify.NewlineText(clus1, state_size = 2)\n",
    "text_modelB1 = markovify.NewlineText(clus1, state_size = 2)\n",
    "model_combo1 = markovify.combine([ text_modelA1, text_modelB1 ], [ 1.5, 1 ])\n",
    "print('Title of Cluster2 news articles:',model_combo1.make_short_sentence(280))"
   ]
  },
  {
   "cell_type": "code",
   "execution_count": null,
   "metadata": {},
   "outputs": [],
   "source": []
  },
  {
   "cell_type": "markdown",
   "metadata": {},
   "source": [
    "# Cluster 3"
   ]
  },
  {
   "cell_type": "code",
   "execution_count": 174,
   "metadata": {},
   "outputs": [],
   "source": [
    "#intialize the data \n",
    "clus2=data2[data2['cluster']==2]['Article']"
   ]
  },
  {
   "cell_type": "code",
   "execution_count": 175,
   "metadata": {},
   "outputs": [
    {
     "name": "stdout",
     "output_type": "stream",
     "text": [
      "Title of Cluster2 news articles:  SAN JOSE, Calif.Â â China has three systems in the technology community, they are closely intertwined. David Yang, ZGMicro \n"
     ]
    }
   ],
   "source": [
    "text_modelA2 = markovify.NewlineText(clus2, state_size = 2)\n",
    "text_modelB2 = markovify.NewlineText(clus2, state_size = 2)\n",
    "model_combo2 = markovify.combine([ text_modelA2, text_modelB2 ], [ 1.5, 1 ])\n",
    "print('Title of Cluster2 news articles:',model_combo2.make_short_sentence(200))"
   ]
  },
  {
   "cell_type": "code",
   "execution_count": null,
   "metadata": {},
   "outputs": [],
   "source": []
  },
  {
   "cell_type": "markdown",
   "metadata": {},
   "source": [
    "# Cluster 4"
   ]
  },
  {
   "cell_type": "code",
   "execution_count": 176,
   "metadata": {},
   "outputs": [],
   "source": [
    "#intialize the data \n",
    "clus3=data2[data2['cluster']==3]['Article']"
   ]
  },
  {
   "cell_type": "code",
   "execution_count": 177,
   "metadata": {},
   "outputs": [
    {
     "name": "stdout",
     "output_type": "stream",
     "text": [
      "Title of Cluster2 news articles:  Itâs not surprising the historically huge bid should be rebuffed. As Hock Tan may get both. â Rick Merritt, Silicon Valley Bureau Chief, EE Times \n"
     ]
    }
   ],
   "source": [
    "text_modelA3 = markovify.NewlineText(clus3, state_size = 2)\n",
    "text_modelB3 = markovify.NewlineText(clus3, state_size = 2)\n",
    "model_combo3 = markovify.combine([ text_modelA3, text_modelB3], [ 1.5, 1 ])\n",
    "print('Title of Cluster2 news articles:',model_combo3.make_short_sentence(250))"
   ]
  },
  {
   "cell_type": "code",
   "execution_count": null,
   "metadata": {},
   "outputs": [],
   "source": []
  },
  {
   "cell_type": "markdown",
   "metadata": {},
   "source": [
    "# Cluster 5"
   ]
  },
  {
   "cell_type": "code",
   "execution_count": 178,
   "metadata": {},
   "outputs": [],
   "source": [
    "#intialize the data \n",
    "clus4=data1[data1['cluster']==4]['Article']"
   ]
  },
  {
   "cell_type": "code",
   "execution_count": 179,
   "metadata": {},
   "outputs": [
    {
     "name": "stdout",
     "output_type": "stream",
     "text": [
      "Title of Cluster2 news articles: san francisco tight supply condition characterized dram chip forecast rise share twitterfacebooklinkedin\n"
     ]
    }
   ],
   "source": [
    "text_modelA4 = markovify.NewlineText(clus4, state_size = 2)\n",
    "text_modelB4 = markovify.NewlineText(clus4, state_size = 2)\n",
    "model_combo4 = markovify.combine([ text_modelA4, text_modelB4 ], [ 1.5, 1 ])\n",
    "print('Title of Cluster2 news articles:',model_combo4.make_short_sentence(200))"
   ]
  },
  {
   "cell_type": "code",
   "execution_count": null,
   "metadata": {},
   "outputs": [],
   "source": []
  },
  {
   "cell_type": "markdown",
   "metadata": {},
   "source": [
    "# Cluster 6"
   ]
  },
  {
   "cell_type": "code",
   "execution_count": 180,
   "metadata": {},
   "outputs": [],
   "source": [
    "#intialize the data \n",
    "clus5=data1[data1['cluster']==5]['Article']"
   ]
  },
  {
   "cell_type": "code",
   "execution_count": 182,
   "metadata": {},
   "outputs": [
    {
     "name": "stdout",
     "output_type": "stream",
     "text": [
      "Title of Cluster6 news articles: today one would question semiconductor company design make chip different automaker design make car sound like progress incredibly beneficial environment share twitterfacebooklinkedin\n"
     ]
    }
   ],
   "source": [
    "text_modelA5 = markovify.NewlineText(clus5, state_size = 2)\n",
    "text_modelB5 = markovify.NewlineText(clus5, state_size = 2)\n",
    "model_combo5 = markovify.combine([ text_modelA5, text_modelB5], [ 1.5, 1 ])\n",
    "print('Title of Cluster6 news articles:',model_combo5.make_short_sentence(200))"
   ]
  },
  {
   "cell_type": "code",
   "execution_count": null,
   "metadata": {},
   "outputs": [],
   "source": []
  },
  {
   "cell_type": "markdown",
   "metadata": {},
   "source": [
    "# Cluster 7"
   ]
  },
  {
   "cell_type": "code",
   "execution_count": 183,
   "metadata": {},
   "outputs": [],
   "source": [
    "#intialize the data \n",
    "clus6=data1[data1['cluster']==6]['Article']"
   ]
  },
  {
   "cell_type": "code",
   "execution_count": 185,
   "metadata": {},
   "outputs": [
    {
     "name": "stdout",
     "output_type": "stream",
     "text": [
      "Title of Cluster6 news articles: fair say cybersecurity operational technology internet thing product\n"
     ]
    }
   ],
   "source": [
    "text_modelA6 = markovify.NewlineText(clus6, state_size = 2)\n",
    "text_modelB6 = markovify.NewlineText(clus6, state_size = 2)\n",
    "model_combo6 = markovify.combine([ text_modelA6, text_modelB6 ], [ 1.5, 1 ])\n",
    "print('Title of Cluster6 news articles:',model_combo6.make_short_sentence(200))"
   ]
  },
  {
   "cell_type": "code",
   "execution_count": null,
   "metadata": {},
   "outputs": [],
   "source": []
  },
  {
   "cell_type": "code",
   "execution_count": null,
   "metadata": {},
   "outputs": [],
   "source": []
  },
  {
   "cell_type": "code",
   "execution_count": null,
   "metadata": {},
   "outputs": [],
   "source": []
  },
  {
   "cell_type": "code",
   "execution_count": null,
   "metadata": {},
   "outputs": [],
   "source": []
  },
  {
   "cell_type": "code",
   "execution_count": null,
   "metadata": {},
   "outputs": [],
   "source": [
    "text_modelA = markovify.NewlineText(clus0, state_size = 2)\n",
    "text_modelB = markovify.NewlineText(clus0, state_size = 2)\n",
    "model_combo1 = markovify.combine([ text_modelA, text_modelB ], [ 1.5, 1 ])\n",
    "print('Title of Cluster2 news articles:',model_combo1.make_short_sentence(200))"
   ]
  },
  {
   "cell_type": "code",
   "execution_count": null,
   "metadata": {},
   "outputs": [],
   "source": []
  },
  {
   "cell_type": "code",
   "execution_count": 31,
   "metadata": {},
   "outputs": [],
   "source": [
    "clus0=weee[weee['cluster']==2]\n",
    "\n",
    "text_model=markovify.NewlineText(clus0,state_size=2)"
   ]
  },
  {
   "cell_type": "code",
   "execution_count": 59,
   "metadata": {},
   "outputs": [
    {
     "name": "stdout",
     "output_type": "stream",
     "text": [
      "time update pictorial view competition cooperation among developer future user autonomous vehicle adoption likely rise fall safety trust share twitterfacebooklinkedin\n",
      "previous column discussed trend opportunity virus safety overhaul av engine change part share twitterfacebooklinkedin\n",
      "madison wi consider cost ada av market idea autonomous vehicle china share twitterfacebooklinkedin\n",
      "shenzhen china concept self driving car technology approaching year since first telematics system know vehicle network source marvell\n",
      "automotive electronics namely bevs battery ev fast part share twitterfacebooklinkedin\n",
      "car rapidly becoming software defined car share twitterfacebooklinkedin\n",
      "key question feature icar question bev av detail link ee time\n",
      "car rapidly becoming software defined car share twitterfacebooklinkedin\n",
      "shenzhen china concept self driving car share twitterfacebooklinkedin\n",
      "None\n"
     ]
    }
   ],
   "source": [
    "for i in range(10):\n",
    "    temp = text_model.make_short_sentence(280)\n",
    "    #if temp is not None: #escpaing None with this if condition as higher state markov model has generated more Nones\n",
    "    print(temp)"
   ]
  },
  {
   "cell_type": "code",
   "execution_count": 71,
   "metadata": {},
   "outputs": [
    {
     "name": "stdout",
     "output_type": "stream",
     "text": [
      "china making major investment autonomous vehicle adoption likely rise fall safety trust share twitterfacebooklinkedin\n"
     ]
    }
   ],
   "source": [
    "text_model11 = markovify.NewlineText(clus1, state_size = 2)\n",
    "text_model12 = markovify.NewlineText(clus1, state_size = 2)\n",
    "model_combo = markovify.combine([ text_model11, text_model12 ], [ 1.5, 1 ])\n",
    "# Print three randomly-generated sentences using the built model\n",
    "#for i in range(5):\n",
    "print(model_combo.make_short_sentence(150))"
   ]
  },
  {
   "cell_type": "code",
   "execution_count": null,
   "metadata": {},
   "outputs": [],
   "source": []
  },
  {
   "cell_type": "code",
   "execution_count": 119,
   "metadata": {},
   "outputs": [
    {
     "data": {
      "text/html": [
       "<div>\n",
       "<style scoped>\n",
       "    .dataframe tbody tr th:only-of-type {\n",
       "        vertical-align: middle;\n",
       "    }\n",
       "\n",
       "    .dataframe tbody tr th {\n",
       "        vertical-align: top;\n",
       "    }\n",
       "\n",
       "    .dataframe thead th {\n",
       "        text-align: right;\n",
       "    }\n",
       "</style>\n",
       "<table border=\"1\" class=\"dataframe\">\n",
       "  <thead>\n",
       "    <tr style=\"text-align: right;\">\n",
       "      <th></th>\n",
       "      <th>Unnamed: 0</th>\n",
       "      <th>Author</th>\n",
       "      <th>Date</th>\n",
       "      <th>Keywords</th>\n",
       "      <th>Article</th>\n",
       "      <th>cluster</th>\n",
       "    </tr>\n",
       "  </thead>\n",
       "  <tbody>\n",
       "    <tr>\n",
       "      <td>0</td>\n",
       "      <td>0</td>\n",
       "      <td>Cabe Atwell</td>\n",
       "      <td>04.05.2021</td>\n",
       "      <td>Microcontroller</td>\n",
       "      <td>As with SBCs (single board computers), CPUs, ...</td>\n",
       "      <td>2</td>\n",
       "    </tr>\n",
       "    <tr>\n",
       "      <td>1</td>\n",
       "      <td>1</td>\n",
       "      <td>Cabe Atwell</td>\n",
       "      <td>09.11.2018</td>\n",
       "      <td>Communications And Networking Systems Or Equip...</td>\n",
       "      <td>Every year like clockwork, new breeds of s...</td>\n",
       "      <td>1</td>\n",
       "    </tr>\n",
       "    <tr>\n",
       "      <td>2</td>\n",
       "      <td>2</td>\n",
       "      <td>Philip Spagnoli Stoten, Journalist &amp; Marketeer...</td>\n",
       "      <td>01.29.2019</td>\n",
       "      <td>Associations, Audio, Ces, Commercial, Computer...</td>\n",
       "      <td>If you didnât go to Las VegasÂ last week...</td>\n",
       "      <td>2</td>\n",
       "    </tr>\n",
       "    <tr>\n",
       "      <td>3</td>\n",
       "      <td>3</td>\n",
       "      <td>Hailey Lynne McKeefry</td>\n",
       "      <td>01.04.2018</td>\n",
       "      <td>Accessories, Business Topics, Commercial, EELi...</td>\n",
       "      <td>Today, with the help of the masses, high-tec...</td>\n",
       "      <td>2</td>\n",
       "    </tr>\n",
       "    <tr>\n",
       "      <td>4</td>\n",
       "      <td>4</td>\n",
       "      <td>Cabe Atwell</td>\n",
       "      <td>10.08.2018</td>\n",
       "      <td>Patents &amp; Licensing</td>\n",
       "      <td>Having engineering skills (no matter the dis...</td>\n",
       "      <td>2</td>\n",
       "    </tr>\n",
       "  </tbody>\n",
       "</table>\n",
       "</div>"
      ],
      "text/plain": [
       "   Unnamed: 0                                             Author        Date  \\\n",
       "0           0                                       Cabe Atwell   04.05.2021   \n",
       "1           1                                       Cabe Atwell   09.11.2018   \n",
       "2           2  Philip Spagnoli Stoten, Journalist & Marketeer...  01.29.2019   \n",
       "3           3                             Hailey Lynne McKeefry   01.04.2018   \n",
       "4           4                                       Cabe Atwell   10.08.2018   \n",
       "\n",
       "                                            Keywords  \\\n",
       "0                                    Microcontroller   \n",
       "1  Communications And Networking Systems Or Equip...   \n",
       "2  Associations, Audio, Ces, Commercial, Computer...   \n",
       "3  Accessories, Business Topics, Commercial, EELi...   \n",
       "4                                Patents & Licensing   \n",
       "\n",
       "                                             Article  cluster  \n",
       "0   As with SBCs (single board computers), CPUs, ...        2  \n",
       "1      Every year like clockwork, new breeds of s...        1  \n",
       "2      If you didnât go to Las VegasÂ last week...        2  \n",
       "3    Today, with the help of the masses, high-tec...        2  \n",
       "4    Having engineering skills (no matter the dis...        2  "
      ]
     },
     "execution_count": 119,
     "metadata": {},
     "output_type": "execute_result"
    }
   ],
   "source": [
    "data2=pd.read_csv('af_new.csv')\n",
    "data2.head(5)"
   ]
  },
  {
   "cell_type": "code",
   "execution_count": 121,
   "metadata": {},
   "outputs": [],
   "source": [
    "cor2=[]\n",
    "for i in range(0, len(data2)):\n",
    "    review = re.sub('[^a-zA-Z]', ' ', data2['Article'][i])\n",
    "    review = review.lower()\n",
    "    review = review.split()\n",
    "    \n",
    "    #review = [lemmatizer.lemmatize(word) for word in review if word not in set(stopwords.words('english'))]\n",
    "    review = ' '.join(review)\n",
    "    cor2.append(review)"
   ]
  },
  {
   "cell_type": "code",
   "execution_count": 123,
   "metadata": {},
   "outputs": [],
   "source": [
    "cor2_new=pd.DataFrame(cor2,columns=['Article'])\n",
    "cor2_new\n",
    "\n",
    "data2['text']=cor2_new['Article']\n",
    "data2.head(5)"
   ]
  },
  {
   "cell_type": "code",
   "execution_count": 124,
   "metadata": {},
   "outputs": [
    {
     "data": {
      "text/html": [
       "<div>\n",
       "<style scoped>\n",
       "    .dataframe tbody tr th:only-of-type {\n",
       "        vertical-align: middle;\n",
       "    }\n",
       "\n",
       "    .dataframe tbody tr th {\n",
       "        vertical-align: top;\n",
       "    }\n",
       "\n",
       "    .dataframe thead th {\n",
       "        text-align: right;\n",
       "    }\n",
       "</style>\n",
       "<table border=\"1\" class=\"dataframe\">\n",
       "  <thead>\n",
       "    <tr style=\"text-align: right;\">\n",
       "      <th></th>\n",
       "      <th>Unnamed: 0</th>\n",
       "      <th>Author</th>\n",
       "      <th>Date</th>\n",
       "      <th>Keywords</th>\n",
       "      <th>Article</th>\n",
       "      <th>cluster</th>\n",
       "      <th>text</th>\n",
       "    </tr>\n",
       "  </thead>\n",
       "  <tbody>\n",
       "    <tr>\n",
       "      <td>0</td>\n",
       "      <td>0</td>\n",
       "      <td>Cabe Atwell</td>\n",
       "      <td>04.05.2021</td>\n",
       "      <td>Microcontroller</td>\n",
       "      <td>As with SBCs (single board computers), CPUs, ...</td>\n",
       "      <td>2</td>\n",
       "      <td>as with sbcs single board computers cpus gpus ...</td>\n",
       "    </tr>\n",
       "    <tr>\n",
       "      <td>1</td>\n",
       "      <td>1</td>\n",
       "      <td>Cabe Atwell</td>\n",
       "      <td>09.11.2018</td>\n",
       "      <td>Communications And Networking Systems Or Equip...</td>\n",
       "      <td>Every year like clockwork, new breeds of s...</td>\n",
       "      <td>1</td>\n",
       "      <td>every year like clockwork new breeds of single...</td>\n",
       "    </tr>\n",
       "    <tr>\n",
       "      <td>2</td>\n",
       "      <td>2</td>\n",
       "      <td>Philip Spagnoli Stoten, Journalist &amp; Marketeer...</td>\n",
       "      <td>01.29.2019</td>\n",
       "      <td>Associations, Audio, Ces, Commercial, Computer...</td>\n",
       "      <td>If you didnât go to Las VegasÂ last week...</td>\n",
       "      <td>2</td>\n",
       "      <td>if you didn t go to las vegas last week for ce...</td>\n",
       "    </tr>\n",
       "    <tr>\n",
       "      <td>3</td>\n",
       "      <td>3</td>\n",
       "      <td>Hailey Lynne McKeefry</td>\n",
       "      <td>01.04.2018</td>\n",
       "      <td>Accessories, Business Topics, Commercial, EELi...</td>\n",
       "      <td>Today, with the help of the masses, high-tec...</td>\n",
       "      <td>2</td>\n",
       "      <td>today with the help of the masses high tech an...</td>\n",
       "    </tr>\n",
       "    <tr>\n",
       "      <td>4</td>\n",
       "      <td>4</td>\n",
       "      <td>Cabe Atwell</td>\n",
       "      <td>10.08.2018</td>\n",
       "      <td>Patents &amp; Licensing</td>\n",
       "      <td>Having engineering skills (no matter the dis...</td>\n",
       "      <td>2</td>\n",
       "      <td>having engineering skills no matter the discip...</td>\n",
       "    </tr>\n",
       "  </tbody>\n",
       "</table>\n",
       "</div>"
      ],
      "text/plain": [
       "   Unnamed: 0                                             Author        Date  \\\n",
       "0           0                                       Cabe Atwell   04.05.2021   \n",
       "1           1                                       Cabe Atwell   09.11.2018   \n",
       "2           2  Philip Spagnoli Stoten, Journalist & Marketeer...  01.29.2019   \n",
       "3           3                             Hailey Lynne McKeefry   01.04.2018   \n",
       "4           4                                       Cabe Atwell   10.08.2018   \n",
       "\n",
       "                                            Keywords  \\\n",
       "0                                    Microcontroller   \n",
       "1  Communications And Networking Systems Or Equip...   \n",
       "2  Associations, Audio, Ces, Commercial, Computer...   \n",
       "3  Accessories, Business Topics, Commercial, EELi...   \n",
       "4                                Patents & Licensing   \n",
       "\n",
       "                                             Article  cluster  \\\n",
       "0   As with SBCs (single board computers), CPUs, ...        2   \n",
       "1      Every year like clockwork, new breeds of s...        1   \n",
       "2      If you didnât go to Las VegasÂ last week...        2   \n",
       "3    Today, with the help of the masses, high-tec...        2   \n",
       "4    Having engineering skills (no matter the dis...        2   \n",
       "\n",
       "                                                text  \n",
       "0  as with sbcs single board computers cpus gpus ...  \n",
       "1  every year like clockwork new breeds of single...  \n",
       "2  if you didn t go to las vegas last week for ce...  \n",
       "3  today with the help of the masses high tech an...  \n",
       "4  having engineering skills no matter the discip...  "
      ]
     },
     "execution_count": 124,
     "metadata": {},
     "output_type": "execute_result"
    }
   ],
   "source": [
    "data2.head(5)"
   ]
  },
  {
   "cell_type": "code",
   "execution_count": 125,
   "metadata": {},
   "outputs": [],
   "source": [
    "import markovify \n",
    "#intialize the data \n",
    "clus7=data2[data2['cluster']==6]['text']"
   ]
  },
  {
   "cell_type": "code",
   "execution_count": 136,
   "metadata": {},
   "outputs": [
    {
     "name": "stdout",
     "output_type": "stream",
     "text": [
      "Title of Cluster6 news articles: we certainly saw early irrational exuberance about all the other after all most of our network and at the application states when not being secured to industry share this twitterfacebooklinkedin\n"
     ]
    }
   ],
   "source": [
    "text_modelA7 = markovify.NewlineText(clus7, state_size = 2)\n",
    "text_modelB7 = markovify.NewlineText(clus7, state_size = 2)\n",
    "model_combo7 = markovify.combine([ text_modelA7, text_modelB7 ], [ 1.5, 1 ])\n",
    "print('Title of Cluster6 news articles:',model_combo7.make_short_sentence(300))"
   ]
  },
  {
   "cell_type": "code",
   "execution_count": null,
   "metadata": {},
   "outputs": [],
   "source": []
  },
  {
   "cell_type": "code",
   "execution_count": null,
   "metadata": {},
   "outputs": [],
   "source": []
  },
  {
   "cell_type": "code",
   "execution_count": null,
   "metadata": {},
   "outputs": [],
   "source": []
  }
 ],
 "metadata": {
  "kernelspec": {
   "display_name": "Python 3",
   "language": "python",
   "name": "python3"
  },
  "language_info": {
   "codemirror_mode": {
    "name": "ipython",
    "version": 3
   },
   "file_extension": ".py",
   "mimetype": "text/x-python",
   "name": "python",
   "nbconvert_exporter": "python",
   "pygments_lexer": "ipython3",
   "version": "3.7.4"
  }
 },
 "nbformat": 4,
 "nbformat_minor": 2
}
